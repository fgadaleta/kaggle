{
 "cells": [
  {
   "cell_type": "code",
   "execution_count": 6,
   "metadata": {
    "collapsed": true
   },
   "outputs": [],
   "source": [
    "import numpy as np\n",
    "import pandas as pd\n",
    "import re\n",
    "\n",
    "from sklearn.ensemble import RandomForestClassifier\n",
    "\n",
    "import matplotlib.pyplot as plt\n",
    "%matplotlib inline"
   ]
  },
  {
   "cell_type": "code",
   "execution_count": 14,
   "metadata": {
    "collapsed": false
   },
   "outputs": [
    {
     "name": "stdout",
     "output_type": "stream",
     "text": [
      "(76020, 371)\n",
      "(75818, 370)\n"
     ]
    }
   ],
   "source": [
    "pd.set_option('display.precision', 5)\n",
    "\n",
    "df_train = pd.read_csv(\"data/train.csv\")\n",
    "df_test = pd.read_csv(\"data/test.csv\")\n",
    "\n",
    "print(df_train.shape)\n",
    "print(df_test.shape)"
   ]
  },
  {
   "cell_type": "code",
   "execution_count": 15,
   "metadata": {
    "collapsed": true
   },
   "outputs": [
    {
     "data": {
      "text/plain": [
       "array(['ID', 'var3', 'var15', 'imp_ent_var16_ult1',\n",
       "       'imp_op_var39_comer_ult1', 'imp_op_var39_comer_ult3',\n",
       "       'imp_op_var40_comer_ult1', 'imp_op_var40_comer_ult3',\n",
       "       'imp_op_var40_efect_ult1', 'imp_op_var40_efect_ult3',\n",
       "       'imp_op_var40_ult1', 'imp_op_var41_comer_ult1',\n",
       "       'imp_op_var41_comer_ult3', 'imp_op_var41_efect_ult1',\n",
       "       'imp_op_var41_efect_ult3', 'imp_op_var41_ult1',\n",
       "       'imp_op_var39_efect_ult1', 'imp_op_var39_efect_ult3',\n",
       "       'imp_op_var39_ult1', 'imp_sal_var16_ult1', 'ind_var1_0', 'ind_var1',\n",
       "       'ind_var2_0', 'ind_var2', 'ind_var5_0', 'ind_var5', 'ind_var6_0',\n",
       "       'ind_var6', 'ind_var8_0', 'ind_var8', 'ind_var12_0', 'ind_var12',\n",
       "       'ind_var13_0', 'ind_var13_corto_0', 'ind_var13_corto',\n",
       "       'ind_var13_largo_0', 'ind_var13_largo', 'ind_var13_medio_0',\n",
       "       'ind_var13_medio', 'ind_var13', 'ind_var14_0', 'ind_var14',\n",
       "       'ind_var17_0', 'ind_var17', 'ind_var18_0', 'ind_var18', 'ind_var19',\n",
       "       'ind_var20_0', 'ind_var20', 'ind_var24_0', 'ind_var24',\n",
       "       'ind_var25_cte', 'ind_var26_0', 'ind_var26_cte', 'ind_var26',\n",
       "       'ind_var25_0', 'ind_var25', 'ind_var27_0', 'ind_var28_0',\n",
       "       'ind_var28', 'ind_var27', 'ind_var29_0', 'ind_var29', 'ind_var30_0',\n",
       "       'ind_var30', 'ind_var31_0', 'ind_var31', 'ind_var32_cte',\n",
       "       'ind_var32_0', 'ind_var32', 'ind_var33_0', 'ind_var33',\n",
       "       'ind_var34_0', 'ind_var34', 'ind_var37_cte', 'ind_var37_0',\n",
       "       'ind_var37', 'ind_var39_0', 'ind_var40_0', 'ind_var40',\n",
       "       'ind_var41_0', 'ind_var41', 'ind_var39', 'ind_var44_0', 'ind_var44',\n",
       "       'ind_var46_0', 'ind_var46', 'num_var1_0', 'num_var1', 'num_var4',\n",
       "       'num_var5_0', 'num_var5', 'num_var6_0', 'num_var6', 'num_var8_0',\n",
       "       'num_var8', 'num_var12_0', 'num_var12', 'num_var13_0',\n",
       "       'num_var13_corto_0', 'num_var13_corto', 'num_var13_largo_0',\n",
       "       'num_var13_largo', 'num_var13_medio_0', 'num_var13_medio',\n",
       "       'num_var13', 'num_var14_0', 'num_var14', 'num_var17_0', 'num_var17',\n",
       "       'num_var18_0', 'num_var18', 'num_var20_0', 'num_var20',\n",
       "       'num_var24_0', 'num_var24', 'num_var26_0', 'num_var26',\n",
       "       'num_var25_0', 'num_var25', 'num_op_var40_hace2',\n",
       "       'num_op_var40_hace3', 'num_op_var40_ult1', 'num_op_var40_ult3',\n",
       "       'num_op_var41_hace2', 'num_op_var41_hace3', 'num_op_var41_ult1',\n",
       "       'num_op_var41_ult3', 'num_op_var39_hace2', 'num_op_var39_hace3',\n",
       "       'num_op_var39_ult1', 'num_op_var39_ult3', 'num_var27_0',\n",
       "       'num_var28_0', 'num_var28', 'num_var27', 'num_var29_0', 'num_var29',\n",
       "       'num_var30_0', 'num_var30', 'num_var31_0', 'num_var31',\n",
       "       'num_var32_0', 'num_var32', 'num_var33_0', 'num_var33',\n",
       "       'num_var34_0', 'num_var34', 'num_var35', 'num_var37_med_ult2',\n",
       "       'num_var37_0', 'num_var37', 'num_var39_0', 'num_var40_0',\n",
       "       'num_var40', 'num_var41_0', 'num_var41', 'num_var39', 'num_var42_0',\n",
       "       'num_var42', 'num_var44_0', 'num_var44', 'num_var46_0', 'num_var46',\n",
       "       'saldo_var1', 'saldo_var5', 'saldo_var6', 'saldo_var8',\n",
       "       'saldo_var12', 'saldo_var13_corto', 'saldo_var13_largo',\n",
       "       'saldo_var13_medio', 'saldo_var13', 'saldo_var14', 'saldo_var17',\n",
       "       'saldo_var18', 'saldo_var20', 'saldo_var24', 'saldo_var26',\n",
       "       'saldo_var25', 'saldo_var28', 'saldo_var27', 'saldo_var29',\n",
       "       'saldo_var30', 'saldo_var31', 'saldo_var32', 'saldo_var33',\n",
       "       'saldo_var34', 'saldo_var37', 'saldo_var40', 'saldo_var41',\n",
       "       'saldo_var42', 'saldo_var44', 'saldo_var46', 'var36',\n",
       "       'delta_imp_amort_var18_1y3', 'delta_imp_amort_var34_1y3',\n",
       "       'delta_imp_aport_var13_1y3', 'delta_imp_aport_var17_1y3',\n",
       "       'delta_imp_aport_var33_1y3', 'delta_imp_compra_var44_1y3',\n",
       "       'delta_imp_reemb_var13_1y3', 'delta_imp_reemb_var17_1y3',\n",
       "       'delta_imp_reemb_var33_1y3', 'delta_imp_trasp_var17_in_1y3',\n",
       "       'delta_imp_trasp_var17_out_1y3', 'delta_imp_trasp_var33_in_1y3',\n",
       "       'delta_imp_trasp_var33_out_1y3', 'delta_imp_venta_var44_1y3',\n",
       "       'delta_num_aport_var13_1y3', 'delta_num_aport_var17_1y3',\n",
       "       'delta_num_aport_var33_1y3', 'delta_num_compra_var44_1y3',\n",
       "       'delta_num_reemb_var13_1y3', 'delta_num_reemb_var17_1y3',\n",
       "       'delta_num_reemb_var33_1y3', 'delta_num_trasp_var17_in_1y3',\n",
       "       'delta_num_trasp_var17_out_1y3', 'delta_num_trasp_var33_in_1y3',\n",
       "       'delta_num_trasp_var33_out_1y3', 'delta_num_venta_var44_1y3',\n",
       "       'imp_amort_var18_hace3', 'imp_amort_var18_ult1',\n",
       "       'imp_amort_var34_hace3', 'imp_amort_var34_ult1',\n",
       "       'imp_aport_var13_hace3', 'imp_aport_var13_ult1',\n",
       "       'imp_aport_var17_hace3', 'imp_aport_var17_ult1',\n",
       "       'imp_aport_var33_hace3', 'imp_aport_var33_ult1',\n",
       "       'imp_var7_emit_ult1', 'imp_var7_recib_ult1',\n",
       "       'imp_compra_var44_hace3', 'imp_compra_var44_ult1',\n",
       "       'imp_reemb_var13_hace3', 'imp_reemb_var13_ult1',\n",
       "       'imp_reemb_var17_hace3', 'imp_reemb_var17_ult1',\n",
       "       'imp_reemb_var33_hace3', 'imp_reemb_var33_ult1',\n",
       "       'imp_var43_emit_ult1', 'imp_trans_var37_ult1',\n",
       "       'imp_trasp_var17_in_hace3', 'imp_trasp_var17_in_ult1',\n",
       "       'imp_trasp_var17_out_hace3', 'imp_trasp_var17_out_ult1',\n",
       "       'imp_trasp_var33_in_hace3', 'imp_trasp_var33_in_ult1',\n",
       "       'imp_trasp_var33_out_hace3', 'imp_trasp_var33_out_ult1',\n",
       "       'imp_venta_var44_hace3', 'imp_venta_var44_ult1',\n",
       "       'ind_var7_emit_ult1', 'ind_var7_recib_ult1', 'ind_var10_ult1',\n",
       "       'ind_var10cte_ult1', 'ind_var9_cte_ult1', 'ind_var9_ult1',\n",
       "       'ind_var43_emit_ult1', 'ind_var43_recib_ult1', 'var21',\n",
       "       'num_var2_0_ult1', 'num_var2_ult1', 'num_aport_var13_hace3',\n",
       "       'num_aport_var13_ult1', 'num_aport_var17_hace3',\n",
       "       'num_aport_var17_ult1', 'num_aport_var33_hace3',\n",
       "       'num_aport_var33_ult1', 'num_var7_emit_ult1', 'num_var7_recib_ult1',\n",
       "       'num_compra_var44_hace3', 'num_compra_var44_ult1',\n",
       "       'num_ent_var16_ult1', 'num_var22_hace2', 'num_var22_hace3',\n",
       "       'num_var22_ult1', 'num_var22_ult3', 'num_med_var22_ult3',\n",
       "       'num_med_var45_ult3', 'num_meses_var5_ult3', 'num_meses_var8_ult3',\n",
       "       'num_meses_var12_ult3', 'num_meses_var13_corto_ult3',\n",
       "       'num_meses_var13_largo_ult3', 'num_meses_var13_medio_ult3',\n",
       "       'num_meses_var17_ult3', 'num_meses_var29_ult3',\n",
       "       'num_meses_var33_ult3', 'num_meses_var39_vig_ult3',\n",
       "       'num_meses_var44_ult3', 'num_op_var39_comer_ult1',\n",
       "       'num_op_var39_comer_ult3', 'num_op_var40_comer_ult1',\n",
       "       'num_op_var40_comer_ult3', 'num_op_var40_efect_ult1',\n",
       "       'num_op_var40_efect_ult3', 'num_op_var41_comer_ult1',\n",
       "       'num_op_var41_comer_ult3', 'num_op_var41_efect_ult1',\n",
       "       'num_op_var41_efect_ult3', 'num_op_var39_efect_ult1',\n",
       "       'num_op_var39_efect_ult3', 'num_reemb_var13_hace3',\n",
       "       'num_reemb_var13_ult1', 'num_reemb_var17_hace3',\n",
       "       'num_reemb_var17_ult1', 'num_reemb_var33_hace3',\n",
       "       'num_reemb_var33_ult1', 'num_sal_var16_ult1', 'num_var43_emit_ult1',\n",
       "       'num_var43_recib_ult1', 'num_trasp_var11_ult1',\n",
       "       'num_trasp_var17_in_hace3', 'num_trasp_var17_in_ult1',\n",
       "       'num_trasp_var17_out_hace3', 'num_trasp_var17_out_ult1',\n",
       "       'num_trasp_var33_in_hace3', 'num_trasp_var33_in_ult1',\n",
       "       'num_trasp_var33_out_hace3', 'num_trasp_var33_out_ult1',\n",
       "       'num_venta_var44_hace3', 'num_venta_var44_ult1', 'num_var45_hace2',\n",
       "       'num_var45_hace3', 'num_var45_ult1', 'num_var45_ult3',\n",
       "       'saldo_var2_ult1', 'saldo_medio_var5_hace2',\n",
       "       'saldo_medio_var5_hace3', 'saldo_medio_var5_ult1',\n",
       "       'saldo_medio_var5_ult3', 'saldo_medio_var8_hace2',\n",
       "       'saldo_medio_var8_hace3', 'saldo_medio_var8_ult1',\n",
       "       'saldo_medio_var8_ult3', 'saldo_medio_var12_hace2',\n",
       "       'saldo_medio_var12_hace3', 'saldo_medio_var12_ult1',\n",
       "       'saldo_medio_var12_ult3', 'saldo_medio_var13_corto_hace2',\n",
       "       'saldo_medio_var13_corto_hace3', 'saldo_medio_var13_corto_ult1',\n",
       "       'saldo_medio_var13_corto_ult3', 'saldo_medio_var13_largo_hace2',\n",
       "       'saldo_medio_var13_largo_hace3', 'saldo_medio_var13_largo_ult1',\n",
       "       'saldo_medio_var13_largo_ult3', 'saldo_medio_var13_medio_hace2',\n",
       "       'saldo_medio_var13_medio_hace3', 'saldo_medio_var13_medio_ult1',\n",
       "       'saldo_medio_var13_medio_ult3', 'saldo_medio_var17_hace2',\n",
       "       'saldo_medio_var17_hace3', 'saldo_medio_var17_ult1',\n",
       "       'saldo_medio_var17_ult3', 'saldo_medio_var29_hace2',\n",
       "       'saldo_medio_var29_hace3', 'saldo_medio_var29_ult1',\n",
       "       'saldo_medio_var29_ult3', 'saldo_medio_var33_hace2',\n",
       "       'saldo_medio_var33_hace3', 'saldo_medio_var33_ult1',\n",
       "       'saldo_medio_var33_ult3', 'saldo_medio_var44_hace2',\n",
       "       'saldo_medio_var44_hace3', 'saldo_medio_var44_ult1',\n",
       "       'saldo_medio_var44_ult3', 'var38', 'TARGET'], dtype=object)"
      ]
     },
     "execution_count": 15,
     "metadata": {},
     "output_type": "execute_result"
    }
   ],
   "source": [
    "df_train.columns.values"
   ]
  },
  {
   "cell_type": "code",
   "execution_count": 6,
   "metadata": {
    "collapsed": true
   },
   "outputs": [
    {
     "ename": "MemoryError",
     "evalue": "",
     "output_type": "error",
     "traceback": [
      "\u001b[1;31m---------------------------------------------------------------------------\u001b[0m",
      "\u001b[1;31mMemoryError\u001b[0m                               Traceback (most recent call last)",
      "\u001b[1;32m<ipython-input-6-4f920ddbc58d>\u001b[0m in \u001b[0;36m<module>\u001b[1;34m()\u001b[0m\n\u001b[1;32m----> 1\u001b[1;33m \u001b[0mX\u001b[0m \u001b[1;33m=\u001b[0m \u001b[0mtraining\u001b[0m\u001b[1;33m.\u001b[0m\u001b[0miloc\u001b[0m\u001b[1;33m[\u001b[0m\u001b[1;33m:\u001b[0m\u001b[1;33m,\u001b[0m\u001b[1;33m:\u001b[0m\u001b[1;33m-\u001b[0m\u001b[1;36m1\u001b[0m\u001b[1;33m]\u001b[0m\u001b[1;33m\u001b[0m\u001b[0m\n\u001b[0m\u001b[0;32m      2\u001b[0m \u001b[0my\u001b[0m \u001b[1;33m=\u001b[0m \u001b[0mtraining\u001b[0m\u001b[1;33m.\u001b[0m\u001b[0mTARGET\u001b[0m\u001b[1;33m\u001b[0m\u001b[0m\n",
      "\u001b[1;32m/opt/rh/python27/root/usr/lib64/python2.7/site-packages/pandas/core/indexing.pyc\u001b[0m in \u001b[0;36m__getitem__\u001b[1;34m(self, key)\u001b[0m\n\u001b[0;32m   1223\u001b[0m     \u001b[1;32mdef\u001b[0m \u001b[0m__getitem__\u001b[0m\u001b[1;33m(\u001b[0m\u001b[0mself\u001b[0m\u001b[1;33m,\u001b[0m \u001b[0mkey\u001b[0m\u001b[1;33m)\u001b[0m\u001b[1;33m:\u001b[0m\u001b[1;33m\u001b[0m\u001b[0m\n\u001b[0;32m   1224\u001b[0m         \u001b[1;32mif\u001b[0m \u001b[0mtype\u001b[0m\u001b[1;33m(\u001b[0m\u001b[0mkey\u001b[0m\u001b[1;33m)\u001b[0m \u001b[1;32mis\u001b[0m \u001b[0mtuple\u001b[0m\u001b[1;33m:\u001b[0m\u001b[1;33m\u001b[0m\u001b[0m\n\u001b[1;32m-> 1225\u001b[1;33m             \u001b[1;32mreturn\u001b[0m \u001b[0mself\u001b[0m\u001b[1;33m.\u001b[0m\u001b[0m_getitem_tuple\u001b[0m\u001b[1;33m(\u001b[0m\u001b[0mkey\u001b[0m\u001b[1;33m)\u001b[0m\u001b[1;33m\u001b[0m\u001b[0m\n\u001b[0m\u001b[0;32m   1226\u001b[0m         \u001b[1;32melse\u001b[0m\u001b[1;33m:\u001b[0m\u001b[1;33m\u001b[0m\u001b[0m\n\u001b[0;32m   1227\u001b[0m             \u001b[1;32mreturn\u001b[0m \u001b[0mself\u001b[0m\u001b[1;33m.\u001b[0m\u001b[0m_getitem_axis\u001b[0m\u001b[1;33m(\u001b[0m\u001b[0mkey\u001b[0m\u001b[1;33m,\u001b[0m \u001b[0maxis\u001b[0m\u001b[1;33m=\u001b[0m\u001b[1;36m0\u001b[0m\u001b[1;33m)\u001b[0m\u001b[1;33m\u001b[0m\u001b[0m\n",
      "\u001b[1;32m/opt/rh/python27/root/usr/lib64/python2.7/site-packages/pandas/core/indexing.pyc\u001b[0m in \u001b[0;36m_getitem_tuple\u001b[1;34m(self, tup)\u001b[0m\n\u001b[0;32m   1463\u001b[0m                 \u001b[1;32mcontinue\u001b[0m\u001b[1;33m\u001b[0m\u001b[0m\n\u001b[0;32m   1464\u001b[0m \u001b[1;33m\u001b[0m\u001b[0m\n\u001b[1;32m-> 1465\u001b[1;33m             \u001b[0mretval\u001b[0m \u001b[1;33m=\u001b[0m \u001b[0mgetattr\u001b[0m\u001b[1;33m(\u001b[0m\u001b[0mretval\u001b[0m\u001b[1;33m,\u001b[0m \u001b[0mself\u001b[0m\u001b[1;33m.\u001b[0m\u001b[0mname\u001b[0m\u001b[1;33m)\u001b[0m\u001b[1;33m.\u001b[0m\u001b[0m_getitem_axis\u001b[0m\u001b[1;33m(\u001b[0m\u001b[0mkey\u001b[0m\u001b[1;33m,\u001b[0m \u001b[0maxis\u001b[0m\u001b[1;33m=\u001b[0m\u001b[0maxis\u001b[0m\u001b[1;33m)\u001b[0m\u001b[1;33m\u001b[0m\u001b[0m\n\u001b[0m\u001b[0;32m   1466\u001b[0m \u001b[1;33m\u001b[0m\u001b[0m\n\u001b[0;32m   1467\u001b[0m             \u001b[1;31m# if the dim was reduced, then pass a lower-dim the next time\u001b[0m\u001b[1;33m\u001b[0m\u001b[1;33m\u001b[0m\u001b[0m\n",
      "\u001b[1;32m/opt/rh/python27/root/usr/lib64/python2.7/site-packages/pandas/core/indexing.pyc\u001b[0m in \u001b[0;36m_getitem_axis\u001b[1;34m(self, key, axis)\u001b[0m\n\u001b[0;32m   1490\u001b[0m         \u001b[1;32mif\u001b[0m \u001b[0misinstance\u001b[0m\u001b[1;33m(\u001b[0m\u001b[0mkey\u001b[0m\u001b[1;33m,\u001b[0m \u001b[0mslice\u001b[0m\u001b[1;33m)\u001b[0m\u001b[1;33m:\u001b[0m\u001b[1;33m\u001b[0m\u001b[0m\n\u001b[0;32m   1491\u001b[0m             \u001b[0mself\u001b[0m\u001b[1;33m.\u001b[0m\u001b[0m_has_valid_type\u001b[0m\u001b[1;33m(\u001b[0m\u001b[0mkey\u001b[0m\u001b[1;33m,\u001b[0m \u001b[0maxis\u001b[0m\u001b[1;33m)\u001b[0m\u001b[1;33m\u001b[0m\u001b[0m\n\u001b[1;32m-> 1492\u001b[1;33m             \u001b[1;32mreturn\u001b[0m \u001b[0mself\u001b[0m\u001b[1;33m.\u001b[0m\u001b[0m_get_slice_axis\u001b[0m\u001b[1;33m(\u001b[0m\u001b[0mkey\u001b[0m\u001b[1;33m,\u001b[0m \u001b[0maxis\u001b[0m\u001b[1;33m=\u001b[0m\u001b[0maxis\u001b[0m\u001b[1;33m)\u001b[0m\u001b[1;33m\u001b[0m\u001b[0m\n\u001b[0m\u001b[0;32m   1493\u001b[0m \u001b[1;33m\u001b[0m\u001b[0m\n\u001b[0;32m   1494\u001b[0m         \u001b[1;32melif\u001b[0m \u001b[0mis_bool_indexer\u001b[0m\u001b[1;33m(\u001b[0m\u001b[0mkey\u001b[0m\u001b[1;33m)\u001b[0m\u001b[1;33m:\u001b[0m\u001b[1;33m\u001b[0m\u001b[0m\n",
      "\u001b[1;32m/opt/rh/python27/root/usr/lib64/python2.7/site-packages/pandas/core/indexing.pyc\u001b[0m in \u001b[0;36m_get_slice_axis\u001b[1;34m(self, slice_obj, axis)\u001b[0m\n\u001b[0;32m   1482\u001b[0m         \u001b[0mslice_obj\u001b[0m \u001b[1;33m=\u001b[0m \u001b[0mself\u001b[0m\u001b[1;33m.\u001b[0m\u001b[0m_convert_slice_indexer\u001b[0m\u001b[1;33m(\u001b[0m\u001b[0mslice_obj\u001b[0m\u001b[1;33m,\u001b[0m \u001b[0maxis\u001b[0m\u001b[1;33m)\u001b[0m\u001b[1;33m\u001b[0m\u001b[0m\n\u001b[0;32m   1483\u001b[0m         \u001b[1;32mif\u001b[0m \u001b[0misinstance\u001b[0m\u001b[1;33m(\u001b[0m\u001b[0mslice_obj\u001b[0m\u001b[1;33m,\u001b[0m \u001b[0mslice\u001b[0m\u001b[1;33m)\u001b[0m\u001b[1;33m:\u001b[0m\u001b[1;33m\u001b[0m\u001b[0m\n\u001b[1;32m-> 1484\u001b[1;33m             \u001b[1;32mreturn\u001b[0m \u001b[0mself\u001b[0m\u001b[1;33m.\u001b[0m\u001b[0m_slice\u001b[0m\u001b[1;33m(\u001b[0m\u001b[0mslice_obj\u001b[0m\u001b[1;33m,\u001b[0m \u001b[0maxis\u001b[0m\u001b[1;33m=\u001b[0m\u001b[0maxis\u001b[0m\u001b[1;33m,\u001b[0m \u001b[0mkind\u001b[0m\u001b[1;33m=\u001b[0m\u001b[1;34m'iloc'\u001b[0m\u001b[1;33m)\u001b[0m\u001b[1;33m\u001b[0m\u001b[0m\n\u001b[0m\u001b[0;32m   1485\u001b[0m         \u001b[1;32melse\u001b[0m\u001b[1;33m:\u001b[0m\u001b[1;33m\u001b[0m\u001b[0m\n\u001b[0;32m   1486\u001b[0m             \u001b[1;32mreturn\u001b[0m \u001b[0mself\u001b[0m\u001b[1;33m.\u001b[0m\u001b[0mobj\u001b[0m\u001b[1;33m.\u001b[0m\u001b[0mtake\u001b[0m\u001b[1;33m(\u001b[0m\u001b[0mslice_obj\u001b[0m\u001b[1;33m,\u001b[0m \u001b[0maxis\u001b[0m\u001b[1;33m=\u001b[0m\u001b[0maxis\u001b[0m\u001b[1;33m,\u001b[0m \u001b[0mconvert\u001b[0m\u001b[1;33m=\u001b[0m\u001b[0mFalse\u001b[0m\u001b[1;33m)\u001b[0m\u001b[1;33m\u001b[0m\u001b[0m\n",
      "\u001b[1;32m/opt/rh/python27/root/usr/lib64/python2.7/site-packages/pandas/core/indexing.pyc\u001b[0m in \u001b[0;36m_slice\u001b[1;34m(self, obj, axis, kind)\u001b[0m\n\u001b[0;32m     90\u001b[0m \u001b[1;33m\u001b[0m\u001b[0m\n\u001b[0;32m     91\u001b[0m     \u001b[1;32mdef\u001b[0m \u001b[0m_slice\u001b[0m\u001b[1;33m(\u001b[0m\u001b[0mself\u001b[0m\u001b[1;33m,\u001b[0m \u001b[0mobj\u001b[0m\u001b[1;33m,\u001b[0m \u001b[0maxis\u001b[0m\u001b[1;33m=\u001b[0m\u001b[1;36m0\u001b[0m\u001b[1;33m,\u001b[0m \u001b[0mkind\u001b[0m\u001b[1;33m=\u001b[0m\u001b[0mNone\u001b[0m\u001b[1;33m)\u001b[0m\u001b[1;33m:\u001b[0m\u001b[1;33m\u001b[0m\u001b[0m\n\u001b[1;32m---> 92\u001b[1;33m         \u001b[1;32mreturn\u001b[0m \u001b[0mself\u001b[0m\u001b[1;33m.\u001b[0m\u001b[0mobj\u001b[0m\u001b[1;33m.\u001b[0m\u001b[0m_slice\u001b[0m\u001b[1;33m(\u001b[0m\u001b[0mobj\u001b[0m\u001b[1;33m,\u001b[0m \u001b[0maxis\u001b[0m\u001b[1;33m=\u001b[0m\u001b[0maxis\u001b[0m\u001b[1;33m,\u001b[0m \u001b[0mkind\u001b[0m\u001b[1;33m=\u001b[0m\u001b[0mkind\u001b[0m\u001b[1;33m)\u001b[0m\u001b[1;33m\u001b[0m\u001b[0m\n\u001b[0m\u001b[0;32m     93\u001b[0m \u001b[1;33m\u001b[0m\u001b[0m\n\u001b[0;32m     94\u001b[0m     \u001b[1;32mdef\u001b[0m \u001b[0m_get_setitem_indexer\u001b[0m\u001b[1;33m(\u001b[0m\u001b[0mself\u001b[0m\u001b[1;33m,\u001b[0m \u001b[0mkey\u001b[0m\u001b[1;33m)\u001b[0m\u001b[1;33m:\u001b[0m\u001b[1;33m\u001b[0m\u001b[0m\n",
      "\u001b[1;32m/opt/rh/python27/root/usr/lib64/python2.7/site-packages/pandas/core/generic.pyc\u001b[0m in \u001b[0;36m_slice\u001b[1;34m(self, slobj, axis, kind)\u001b[0m\n\u001b[0;32m   1196\u001b[0m         \"\"\"\n\u001b[0;32m   1197\u001b[0m         \u001b[0maxis\u001b[0m \u001b[1;33m=\u001b[0m \u001b[0mself\u001b[0m\u001b[1;33m.\u001b[0m\u001b[0m_get_block_manager_axis\u001b[0m\u001b[1;33m(\u001b[0m\u001b[0maxis\u001b[0m\u001b[1;33m)\u001b[0m\u001b[1;33m\u001b[0m\u001b[0m\n\u001b[1;32m-> 1198\u001b[1;33m         \u001b[0mresult\u001b[0m \u001b[1;33m=\u001b[0m \u001b[0mself\u001b[0m\u001b[1;33m.\u001b[0m\u001b[0m_constructor\u001b[0m\u001b[1;33m(\u001b[0m\u001b[0mself\u001b[0m\u001b[1;33m.\u001b[0m\u001b[0m_data\u001b[0m\u001b[1;33m.\u001b[0m\u001b[0mget_slice\u001b[0m\u001b[1;33m(\u001b[0m\u001b[0mslobj\u001b[0m\u001b[1;33m,\u001b[0m \u001b[0maxis\u001b[0m\u001b[1;33m=\u001b[0m\u001b[0maxis\u001b[0m\u001b[1;33m)\u001b[0m\u001b[1;33m)\u001b[0m\u001b[1;33m\u001b[0m\u001b[0m\n\u001b[0m\u001b[0;32m   1199\u001b[0m         \u001b[0mresult\u001b[0m \u001b[1;33m=\u001b[0m \u001b[0mresult\u001b[0m\u001b[1;33m.\u001b[0m\u001b[0m__finalize__\u001b[0m\u001b[1;33m(\u001b[0m\u001b[0mself\u001b[0m\u001b[1;33m)\u001b[0m\u001b[1;33m\u001b[0m\u001b[0m\n\u001b[0;32m   1200\u001b[0m \u001b[1;33m\u001b[0m\u001b[0m\n",
      "\u001b[1;32m/opt/rh/python27/root/usr/lib64/python2.7/site-packages/pandas/core/internals.pyc\u001b[0m in \u001b[0;36mget_slice\u001b[1;34m(self, slobj, axis)\u001b[0m\n\u001b[0;32m   3010\u001b[0m \u001b[1;33m\u001b[0m\u001b[0m\n\u001b[0;32m   3011\u001b[0m         \u001b[1;32mif\u001b[0m \u001b[0maxis\u001b[0m \u001b[1;33m==\u001b[0m \u001b[1;36m0\u001b[0m\u001b[1;33m:\u001b[0m\u001b[1;33m\u001b[0m\u001b[0m\n\u001b[1;32m-> 3012\u001b[1;33m             \u001b[0mnew_blocks\u001b[0m \u001b[1;33m=\u001b[0m \u001b[0mself\u001b[0m\u001b[1;33m.\u001b[0m\u001b[0m_slice_take_blocks_ax0\u001b[0m\u001b[1;33m(\u001b[0m\u001b[0mslobj\u001b[0m\u001b[1;33m)\u001b[0m\u001b[1;33m\u001b[0m\u001b[0m\n\u001b[0m\u001b[0;32m   3013\u001b[0m         \u001b[1;32melse\u001b[0m\u001b[1;33m:\u001b[0m\u001b[1;33m\u001b[0m\u001b[0m\n\u001b[0;32m   3014\u001b[0m             \u001b[0mslicer\u001b[0m \u001b[1;33m=\u001b[0m \u001b[1;33m[\u001b[0m\u001b[0mslice\u001b[0m\u001b[1;33m(\u001b[0m\u001b[0mNone\u001b[0m\u001b[1;33m)\u001b[0m\u001b[1;33m]\u001b[0m \u001b[1;33m*\u001b[0m \u001b[1;33m(\u001b[0m\u001b[0maxis\u001b[0m \u001b[1;33m+\u001b[0m \u001b[1;36m1\u001b[0m\u001b[1;33m)\u001b[0m\u001b[1;33m\u001b[0m\u001b[0m\n",
      "\u001b[1;32m/opt/rh/python27/root/usr/lib64/python2.7/site-packages/pandas/core/internals.pyc\u001b[0m in \u001b[0;36m_slice_take_blocks_ax0\u001b[1;34m(self, slice_or_indexer, fill_tuple)\u001b[0m\n\u001b[0;32m   3589\u001b[0m                     blocks.append(blk.take_nd(\n\u001b[0;32m   3590\u001b[0m                         \u001b[0mblklocs\u001b[0m\u001b[1;33m[\u001b[0m\u001b[0mmgr_locs\u001b[0m\u001b[1;33m.\u001b[0m\u001b[0mindexer\u001b[0m\u001b[1;33m]\u001b[0m\u001b[1;33m,\u001b[0m \u001b[0maxis\u001b[0m\u001b[1;33m=\u001b[0m\u001b[1;36m0\u001b[0m\u001b[1;33m,\u001b[0m\u001b[1;33m\u001b[0m\u001b[0m\n\u001b[1;32m-> 3591\u001b[1;33m                         new_mgr_locs=mgr_locs, fill_tuple=None))\n\u001b[0m\u001b[0;32m   3592\u001b[0m \u001b[1;33m\u001b[0m\u001b[0m\n\u001b[0;32m   3593\u001b[0m         \u001b[1;32mreturn\u001b[0m \u001b[0mblocks\u001b[0m\u001b[1;33m\u001b[0m\u001b[0m\n",
      "\u001b[1;32m/opt/rh/python27/root/usr/lib64/python2.7/site-packages/pandas/core/internals.pyc\u001b[0m in \u001b[0;36mtake_nd\u001b[1;34m(self, indexer, axis, new_mgr_locs, fill_tuple)\u001b[0m\n\u001b[0;32m    982\u001b[0m             \u001b[0mfill_value\u001b[0m \u001b[1;33m=\u001b[0m \u001b[0mself\u001b[0m\u001b[1;33m.\u001b[0m\u001b[0mfill_value\u001b[0m\u001b[1;33m\u001b[0m\u001b[0m\n\u001b[0;32m    983\u001b[0m             new_values = com.take_nd(values, indexer, axis=axis,\n\u001b[1;32m--> 984\u001b[1;33m                                      allow_fill=False)\n\u001b[0m\u001b[0;32m    985\u001b[0m         \u001b[1;32melse\u001b[0m\u001b[1;33m:\u001b[0m\u001b[1;33m\u001b[0m\u001b[0m\n\u001b[0;32m    986\u001b[0m             \u001b[0mfill_value\u001b[0m \u001b[1;33m=\u001b[0m \u001b[0mfill_tuple\u001b[0m\u001b[1;33m[\u001b[0m\u001b[1;36m0\u001b[0m\u001b[1;33m]\u001b[0m\u001b[1;33m\u001b[0m\u001b[0m\n",
      "\u001b[1;32m/opt/rh/python27/root/usr/lib64/python2.7/site-packages/pandas/core/common.pyc\u001b[0m in \u001b[0;36mtake_nd\u001b[1;34m(arr, indexer, axis, out, fill_value, mask_info, allow_fill)\u001b[0m\n\u001b[0;32m    785\u001b[0m             \u001b[0mout\u001b[0m \u001b[1;33m=\u001b[0m \u001b[0mnp\u001b[0m\u001b[1;33m.\u001b[0m\u001b[0mempty\u001b[0m\u001b[1;33m(\u001b[0m\u001b[0mout_shape\u001b[0m\u001b[1;33m,\u001b[0m \u001b[0mdtype\u001b[0m\u001b[1;33m=\u001b[0m\u001b[0mdtype\u001b[0m\u001b[1;33m,\u001b[0m \u001b[0morder\u001b[0m\u001b[1;33m=\u001b[0m\u001b[1;34m'F'\u001b[0m\u001b[1;33m)\u001b[0m\u001b[1;33m\u001b[0m\u001b[0m\n\u001b[0;32m    786\u001b[0m         \u001b[1;32melse\u001b[0m\u001b[1;33m:\u001b[0m\u001b[1;33m\u001b[0m\u001b[0m\n\u001b[1;32m--> 787\u001b[1;33m             \u001b[0mout\u001b[0m \u001b[1;33m=\u001b[0m \u001b[0mnp\u001b[0m\u001b[1;33m.\u001b[0m\u001b[0mempty\u001b[0m\u001b[1;33m(\u001b[0m\u001b[0mout_shape\u001b[0m\u001b[1;33m,\u001b[0m \u001b[0mdtype\u001b[0m\u001b[1;33m=\u001b[0m\u001b[0mdtype\u001b[0m\u001b[1;33m)\u001b[0m\u001b[1;33m\u001b[0m\u001b[0m\n\u001b[0m\u001b[0;32m    788\u001b[0m \u001b[1;33m\u001b[0m\u001b[0m\n\u001b[0;32m    789\u001b[0m     func = _get_take_nd_function(arr.ndim, arr.dtype, out.dtype,\n",
      "\u001b[1;31mMemoryError\u001b[0m: "
     ]
    }
   ],
   "source": [
    "X = df_train.iloc[:,:-1]\n",
    "y = df_train.TARGET"
   ]
  },
  {
   "cell_type": "code",
   "execution_count": null,
   "metadata": {
    "collapsed": false,
    "scrolled": true
   },
   "outputs": [],
   "source": []
  },
  {
   "cell_type": "code",
   "execution_count": 18,
   "metadata": {
    "collapsed": true
   },
   "outputs": [],
   "source": [
    "import matplotlib.pyplot as plt\n",
    "import numpy as np\n",
    "import pandas as pd\n",
    "import xgboost as xgb\n",
    "from sklearn.cross_validation import train_test_split\n",
    "from sklearn.ensemble import RandomForestClassifier\n",
    "from sklearn.metrics import roc_auc_score\n",
    "from sklearn.pipeline import Pipeline\n",
    "from sklearn.svm import OneClassSVM\n",
    "from subprocess import check_output\n"
   ]
  },
  {
   "cell_type": "code",
   "execution_count": null,
   "metadata": {
    "collapsed": true
   },
   "outputs": [],
   "source": [
    "# Input data files are available in the \"../input/\" directory.\n",
    "# For example, running this (by clicking run or pressing Shift+Enter) will list the files in the input directory\n",
    "print(check_output([\"ls\", \"data/\"]).decode(\"utf8\"))\n",
    "\n",
    "# Any results you write to the current directory are saved as output.\n",
    "\n",
    "\n",
    "# remove constant columns\n",
    "remove = []\n",
    "for col in df_train.columns:\n",
    "    if df_train[col].std() == 0:\n",
    "        remove.append(col)\n",
    "\n",
    "df_train.drop(remove, axis=1, inplace=True)\n",
    "df_test.drop(remove, axis=1, inplace=True)\n",
    "\n",
    "# remove duplicated columns\n",
    "remove = []\n",
    "c = df_train.columns\n",
    "for i in range(len(c)-1):\n",
    "    v = df_train[c[i]].values\n",
    "    for j in range(i+1,len(c)):\n",
    "        if np.array_equal(v,df_train[c[j]].values):\n",
    "            remove.append(c[j])\n",
    "\n",
    "df_train.drop(remove, axis=1, inplace=True)\n",
    "df_test.drop(remove, axis=1, inplace=True)\n",
    "\n",
    "y_train = df_train['TARGET'].values\n",
    "X_train = df_train.drop(['ID','TARGET'], axis=1).values\n",
    "\n",
    "id_test = df_test['ID']\n",
    "X_test = df_test.drop(['ID'], axis=1).values\n",
    "\n",
    "# length of dataset\n",
    "len_train = len(X_train)\n",
    "len_test  = len(X_test)"
   ]
  },
  {
   "cell_type": "code",
   "execution_count": 35,
   "metadata": {
    "collapsed": false
   },
   "outputs": [
    {
     "ename": "TypeError",
     "evalue": "__init__() got an unexpected keyword argument 'missing'",
     "output_type": "error",
     "traceback": [
      "\u001b[1;31m---------------------------------------------------------------------------\u001b[0m",
      "\u001b[1;31mTypeError\u001b[0m                                 Traceback (most recent call last)",
      "\u001b[1;32m<ipython-input-35-4f7b3f7c8cd7>\u001b[0m in \u001b[0;36m<module>\u001b[1;34m()\u001b[0m\n\u001b[0;32m      3\u001b[0m                         \u001b[0mn_estimators\u001b[0m\u001b[1;33m=\u001b[0m\u001b[1;36m350\u001b[0m\u001b[1;33m,\u001b[0m \u001b[0mlearning_rate\u001b[0m\u001b[1;33m=\u001b[0m\u001b[1;36m0.03\u001b[0m\u001b[1;33m,\u001b[0m\u001b[1;33m\u001b[0m\u001b[0m\n\u001b[0;32m      4\u001b[0m                         \u001b[0mnthread\u001b[0m\u001b[1;33m=\u001b[0m\u001b[1;36m4\u001b[0m\u001b[1;33m,\u001b[0m \u001b[0msubsample\u001b[0m\u001b[1;33m=\u001b[0m\u001b[1;36m0.95\u001b[0m\u001b[1;33m,\u001b[0m\u001b[1;33m\u001b[0m\u001b[0m\n\u001b[1;32m----> 5\u001b[1;33m                         colsample_bytree=0.85, seed=4242)\n\u001b[0m\u001b[0;32m      6\u001b[0m \u001b[0mX_fit\u001b[0m\u001b[1;33m,\u001b[0m \u001b[0mX_eval\u001b[0m\u001b[1;33m,\u001b[0m \u001b[0my_fit\u001b[0m\u001b[1;33m,\u001b[0m \u001b[0my_eval\u001b[0m\u001b[1;33m=\u001b[0m \u001b[0mtrain_test_split\u001b[0m\u001b[1;33m(\u001b[0m\u001b[0mX_train\u001b[0m\u001b[1;33m,\u001b[0m \u001b[0my_train\u001b[0m\u001b[1;33m,\u001b[0m \u001b[0mtest_size\u001b[0m\u001b[1;33m=\u001b[0m\u001b[1;36m0.3\u001b[0m\u001b[1;33m)\u001b[0m\u001b[1;33m\u001b[0m\u001b[0m\n\u001b[0;32m      7\u001b[0m \u001b[1;33m\u001b[0m\u001b[0m\n",
      "\u001b[1;31mTypeError\u001b[0m: __init__() got an unexpected keyword argument 'missing'"
     ]
    }
   ],
   "source": [
    "# classifier\n",
    "clf = xgb.XGBClassifier(missing=np.nan, max_depth=5, \n",
    "                        n_estimators=350, learning_rate=0.03, \n",
    "                        nthread=4, subsample=0.95, \n",
    "                        colsample_bytree=0.85, seed=4242)\n",
    "X_fit, X_eval, y_fit, y_eval= train_test_split(X_train, y_train, test_size=0.3)\n",
    "\n",
    "# fitting\n",
    "clf.fit(X_train, y_train, early_stopping_rounds=20, eval_metric=\"auc\", eval_set=[(X_eval, y_eval)])\n",
    "\n",
    "print('Overall AUC:', roc_auc_score(y_train, clf.predict_proba(X_train)[:,1]))\n",
    "\n",
    "# predicting\n",
    "y_pred= clf.predict_proba(X_test)[:,1]\n",
    "\n",
    "submission = pd.DataFrame({\"ID\":id_test, \"TARGET\":y_pred})\n",
    "submission.to_csv(\"submission.csv\", index=False)\n",
    "\n",
    "print('Completed!')"
   ]
  },
  {
   "cell_type": "code",
   "execution_count": 34,
   "metadata": {
    "collapsed": false
   },
   "outputs": [
    {
     "data": {
      "text/plain": [
       "0.96043146588188366"
      ]
     },
     "execution_count": 34,
     "metadata": {},
     "output_type": "execute_result"
    }
   ],
   "source": [
    "from sklearn.ensemble import ExtraTreesClassifier\n",
    "from sklearn.cross_validation import cross_val_score\n",
    "\n",
    "etc = ExtraTreesClassifier(n_estimators=350, max_depth=5, min_samples_split=2, \n",
    "                           random_state=0, max_features=300, \n",
    "                           bootstrap=True, oob_score=True, n_jobs=-1)\n",
    "scores = cross_val_score(etc, X_train, y_train)\n",
    "scores.mean()"
   ]
  },
  {
   "cell_type": "code",
   "execution_count": 31,
   "metadata": {
    "collapsed": false
   },
   "outputs": [
    {
     "name": "stdout",
     "output_type": "stream",
     "text": [
      "Training with 1 estimators\n",
      "Training with 26 estimators\n",
      "Training with 51 estimators\n",
      "Training with 76 estimators\n",
      "Training with 101 estimators\n",
      "Training with 126 estimators\n",
      "Training with 151 estimators\n",
      "Training with 176 estimators\n"
     ]
    }
   ],
   "source": [
    "min_estimators = 1\n",
    "max_estimators = 200\n",
    "error_rate = []\n",
    "\n",
    "for i in range(min_estimators, max_estimators + 1, 25):\n",
    "    print('Training with %d estimators' %i)\n",
    "    etc.set_params(n_estimators=i)\n",
    "    etc.fit(X_train, y_train)\n",
    "    # Record the OOB error for each `n_estimators=i` setting.\n",
    "    oob_error = 1 - etc.oob_score_\n",
    "    error_rate.append((i, oob_error))\n"
   ]
  },
  {
   "cell_type": "code",
   "execution_count": 32,
   "metadata": {
    "collapsed": false
   },
   "outputs": [
    {
     "data": {
      "text/plain": [
       "[(1, 0.039594843462246732),\n",
       " (26, 0.039568534596158944),\n",
       " (51, 0.039568534596158944),\n",
       " (76, 0.039568534596158944),\n",
       " (101, 0.039568534596158944),\n",
       " (126, 0.039568534596158944),\n",
       " (151, 0.039568534596158944),\n",
       " (176, 0.039568534596158944)]"
      ]
     },
     "execution_count": 32,
     "metadata": {},
     "output_type": "execute_result"
    }
   ],
   "source": [
    "error_rate\n"
   ]
  },
  {
   "cell_type": "code",
   "execution_count": 26,
   "metadata": {
    "collapsed": false
   },
   "outputs": [
    {
     "data": {
      "image/png": "[encoded data removed]",
      "text/plain": [
       "<matplotlib.figure.Figure at 0x7f7c253bb910>"
      ]
     },
     "metadata": {},
     "output_type": "display_data"
    }
   ],
   "source": [
    "err = map(lambda (x,y): y, error_rate)\n",
    "plt.plot(err)\n",
    "plt.show()"
   ]
  },
  {
   "cell_type": "raw",
   "metadata": {},
   "source": []
  },
  {
   "cell_type": "code",
   "execution_count": null,
   "metadata": {
    "collapsed": true
   },
   "outputs": [],
   "source": []
  }
 ],
 "metadata": {
  "kernelspec": {
   "display_name": "Python 2",
   "language": "python",
   "name": "python2"
  },
  "language_info": {
   "codemirror_mode": {
    "name": "ipython",
    "version": 2
   },
   "file_extension": ".py",
   "mimetype": "text/x-python",
   "name": "python",
   "nbconvert_exporter": "python",
   "pygments_lexer": "ipython2",
   "version": "2.7.6"
  }
 },
 "nbformat": 4,
 "nbformat_minor": 0
}
